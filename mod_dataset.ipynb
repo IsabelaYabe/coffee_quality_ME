{
 "cells": [
  {
   "cell_type": "code",
   "execution_count": 10,
   "metadata": {},
   "outputs": [
    {
     "name": "stdout",
     "output_type": "stream",
     "text": [
      "Processing.Method\n",
      "Washed / Wet     767\n",
      "Natural / Dry    225\n",
      "Other             94\n",
      "Name: count, dtype: int64\n"
     ]
    }
   ],
   "source": [
    "import pandas as pd\n",
    "import pandas as pd\n",
    "\n",
    "# Carregar os dados\n",
    "df = pd.read_csv('Dataset/arabica_data_cleaned_var.csv')\n",
    "\n",
    "# Contar as ocorrências de cada método de processamento\n",
    "method_counts = df[\"Processing.Method\"].value_counts()\n",
    "\n",
    "# Identificar métodos raros\n",
    "rare_methods = method_counts[method_counts < 60].index\n",
    "\n",
    "# Substituir métodos raros por \"Other\"\n",
    "df[\"Processing.Method\"] = df[\"Processing.Method\"].apply(lambda x: \"Other\" if x in rare_methods else x)\n",
    "\n",
    "# Verificar a contagem de valores após a substituição\n",
    "print(df[\"Processing.Method\"].value_counts())\n",
    "\n",
    "\n"
   ]
  },
  {
   "cell_type": "code",
   "execution_count": 11,
   "metadata": {},
   "outputs": [
    {
     "name": "stdout",
     "output_type": "stream",
     "text": [
      "Variety\n",
      "Other      332\n",
      "Caturra    249\n",
      "Bourbon    223\n",
      "Typica     208\n",
      "Catuai      74\n",
      "Name: count, dtype: int64\n"
     ]
    }
   ],
   "source": [
    "# Contar as ocorrências de cada variedade\n",
    "variety_counts = df[\"Variety\"].value_counts()\n",
    "\n",
    "# Identificar variedades raras\n",
    "rare_varieties = variety_counts[variety_counts < 70].index\n",
    "\n",
    "# Substituir variedades raras por \"Other\"\n",
    "df[\"Variety\"] = df[\"Variety\"].apply(lambda x: \"Other\" if x in rare_varieties else x)\n",
    "\n",
    "# Verificar a contagem de valores após a substituição\n",
    "print(df[\"Variety\"].value_counts())\n"
   ]
  },
  {
   "cell_type": "code",
   "execution_count": 12,
   "metadata": {},
   "outputs": [],
   "source": [
    "df.to_csv('Dataset/arabica_data_cleaned_other.csv', index=False)"
   ]
  },
  {
   "cell_type": "code",
   "execution_count": 13,
   "metadata": {},
   "outputs": [
    {
     "name": "stdout",
     "output_type": "stream",
     "text": [
      "Processing.Method\n",
      "Washed / Wet     767\n",
      "Natural / Dry    225\n",
      "Name: count, dtype: int64\n"
     ]
    }
   ],
   "source": [
    "# Carregar os dados\n",
    "df = pd.read_csv('Dataset/arabica_data_cleaned_var.csv')\n",
    "\n",
    "# Contar as ocorrências de cada método de processamento\n",
    "method_counts = df[\"Processing.Method\"].value_counts()\n",
    "\n",
    "# Identificar métodos raros\n",
    "rare_methods = method_counts[method_counts < 60].index\n",
    "\n",
    "# Substituir métodos raros por \"Other\"\n",
    "df[\"Processing.Method\"] = df[\"Processing.Method\"].apply(lambda x: \"Other\" if x in rare_methods else x)\n",
    "\n",
    "# Descartar linhas onde \"Processing.Method\" é \"Other\"\n",
    "df_filtered = df[df[\"Processing.Method\"] != \"Other\"]\n",
    "\n",
    "# Verificar a contagem de valores após a filtragem\n",
    "print(df_filtered[\"Processing.Method\"].value_counts())\n"
   ]
  },
  {
   "cell_type": "code",
   "execution_count": 14,
   "metadata": {},
   "outputs": [
    {
     "name": "stdout",
     "output_type": "stream",
     "text": [
      "Variety\n",
      "Caturra    242\n",
      "Bourbon    208\n",
      "Typica     177\n",
      "Catuai      66\n",
      "Name: count, dtype: int64\n"
     ]
    },
    {
     "name": "stderr",
     "output_type": "stream",
     "text": [
      "C:\\Users\\Isas_\\AppData\\Local\\Temp\\ipykernel_9080\\3599639713.py:11: UserWarning: Boolean Series key will be reindexed to match DataFrame index.\n",
      "  df_filtered = df_filtered[df[\"Variety\"] != \"Other\"]\n"
     ]
    }
   ],
   "source": [
    "# Contar as ocorrências de cada variedade\n",
    "variety_counts = df[\"Variety\"].value_counts()\n",
    "\n",
    "# Identificar variedades raras\n",
    "rare_varieties = variety_counts[variety_counts < 70].index\n",
    "\n",
    "# Substituir variedades raras por \"Other\"\n",
    "df[\"Variety\"] = df[\"Variety\"].apply(lambda x: \"Other\" if x in rare_varieties else x)\n",
    "\n",
    "# Descartar linhas onde \"Variety\" é \"Other\"\n",
    "df_filtered = df_filtered[df[\"Variety\"] != \"Other\"]\n",
    "\n",
    "# Verificar a contagem de valores após a filtragem\n",
    "print(df_filtered[\"Variety\"].value_counts())\n"
   ]
  },
  {
   "cell_type": "code",
   "execution_count": 15,
   "metadata": {},
   "outputs": [],
   "source": [
    "df_filtered.to_csv('Dataset/arabica_data_cleaned_descart.csv', index=False)"
   ]
  }
 ],
 "metadata": {
  "kernelspec": {
   "display_name": "Python 3",
   "language": "python",
   "name": "python3"
  },
  "language_info": {
   "codemirror_mode": {
    "name": "ipython",
    "version": 3
   },
   "file_extension": ".py",
   "mimetype": "text/x-python",
   "name": "python",
   "nbconvert_exporter": "python",
   "pygments_lexer": "ipython3",
   "version": "3.12.3"
  }
 },
 "nbformat": 4,
 "nbformat_minor": 2
}
